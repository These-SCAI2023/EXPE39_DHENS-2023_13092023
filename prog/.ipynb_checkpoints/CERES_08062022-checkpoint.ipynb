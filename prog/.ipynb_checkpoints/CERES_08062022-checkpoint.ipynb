{
 "cells": [
  {
   "cell_type": "markdown",
   "metadata": {},
   "source": [
    "## Utilisez Spacy pour la Reconnaissance d'entités nommées : problème de structure de données\n",
    "\n",
    "https://spacy.io/usage/linguistic-features#named-entities\n",
    "\n",
    "\n"
   ]
  },
  {
   "cell_type": "code",
   "execution_count": 2,
   "metadata": {},
   "outputs": [],
   "source": [
    "# Toujours importer spacy\n",
    "# ICI ON FAIT L'IMPORT POUR TOUS LES CODES SUIVANTS\n",
    "import spacy\n",
    "import json\n",
    "\n",
    "#Fonction pour le stockage des données au format json :format de données textuelles \n",
    "#dérivé de la notation des objets du langage JavaScript. \n",
    "#Il permet de représenter de l’information structurée comme le permet XML par exemple.\n",
    "\n",
    "def stocker( chemin, contenu):\n",
    "    w =open(chemin, \"w\")\n",
    "    w.write(json.dumps(contenu , indent = 2))\n",
    "    w.close()\n",
    "    #print(chemin)\n",
    "\n",
    "\n",
    "#Pour lire le texte voulu, entrez son chemin\n",
    "text = open(\"./displacy/FRA00301_Aimard_15L.txt\")\n",
    "text_lire = text.read()\n",
    "text.close()\n",
    "# Charger le modèle de langue avec lequel vous travaillez\n",
    "nlp = spacy.load(\"fr_core_news_sm\")\n",
    "#Soumettre votre contenu au modèle de langue\n",
    "contenu=nlp(text_lire)\n",
    "dic_ent = {}\n",
    "i=0"
   ]
  },
  {
   "cell_type": "markdown",
   "metadata": {},
   "source": [
    "### Stocker dans une liste au format json"
   ]
  },
  {
   "cell_type": "code",
   "execution_count": 8,
   "metadata": {},
   "outputs": [
    {
     "name": "stdout",
     "output_type": "stream",
     "text": [
      "Prologue 0 8 LOC\n",
      "Hermosillo 28 38 MISC\n",
      "l'Amérique 92 102 LOC\n",
      "Nouveau Monde 196 209 ORG\n",
      "Nouveau Monde  380 394 ORG\n",
      "l'Amérique 420 430 LOC\n",
      "Amérique 847 855 LOC\n",
      "Espagnols 1082 1091 LOC\n",
      "Aztèques 1279 1287 MISC\n",
      "Incas 1295 1300 LOC\n",
      "Hélas  1463 1469 PER\n",
      "l'Europe 1538 1546 LOC\n",
      "l'Amérique 1797 1807 LOC\n",
      "Dieu 2283 2287 MISC\n",
      "Charles Quint 2542 2555 PER\n",
      "États 2731 2736 LOC\n",
      "État 2785 2789 LOC\n",
      "rio Gila 3111 3119 LOC\n",
      "État  3178 3183 LOC\n",
      "sierra Madre 3229 3241 LOC\n",
      "golfe de Californie 3248 3267 LOC\n",
      "sierra Madre 3273 3285 LOC\n",
      "Durango 3296 3303 LOC\n",
      "États de Durango 3453 3469 LOC\n",
      "Guadalajara 3476 3487 LOC\n",
      "Pacifique 3531 3540 LOC\n",
      "Sonora 3609 3615 LOC\n",
      "rio Gila 4092 4100 LOC\n",
      "sierra Madre 4110 4122 LOC\n",
      "Indiens 4127 4134 LOC\n",
      "Comanches 4149 4158 LOC\n",
      "Pawnees 4160 4167 LOC\n",
      "Pimas 4169 4174 LOC\n",
      "Opatas 4176 4182 LOC\n",
      "Apaches 4186 4193 LOC\n"
     ]
    }
   ],
   "source": [
    "#Repérage des Entités Nommées\n",
    "liste_ent=[]\n",
    "liste_ent_txt=[]\n",
    "for ent in contenu.ents:\n",
    "    print(ent, ent.start_char, ent.end_char, ent.label_)\n",
    "    #print(type(ent))\n",
    "    #print(type(ent.text))\n",
    "#Stocker les sorties de REN\n",
    "    stocker(\"./OUTPUT/FRA00301_Aimard_15L_EN.json\", ent.text)\n",
    "    #stocker(\"./OUTPUT/FRA00301_Aimard_15L_EN.txt\", ent.text)\n",
    "    #stocker(\"./OUTPUT/FRA00301_Aimard_15L_EN.json\", ent.text)\n",
    "    \n",
    "   \n",
    "    liste_ent.append(ent)\n",
    "    liste_ent_txt.append(ent.text)\n",
    "    #print(liste_ent)\n",
    "    #stocker(\"./OUTPUT/FRA00301_Aimard_15L_EN.json\", liste_ent)\n",
    "    #print(liste_ent)\n",
    "    stocker(\"./OUTPUT/FRA00301_Aimard_15L_EN.json\", liste_ent_txt)\n",
    "    \n"
   ]
  },
  {
   "cell_type": "markdown",
   "metadata": {},
   "source": [
    "### Stocker dans une liste au format json"
   ]
  },
  {
   "cell_type": "code",
   "execution_count": 9,
   "metadata": {},
   "outputs": [],
   "source": [
    "for ent in contenu.ents:\n",
    "#        print(ent.text, ent.label_)\n",
    "    nb_ent=\"entite_\"+str(i)\n",
    "    i=i+1\n",
    "    dic_ent[nb_ent]={}\n",
    "    dic_ent[nb_ent][\"Entite\"] = ent.text\n",
    "    dic_ent[nb_ent][\"Label\"] = ent.label_\n",
    "    \n",
    "    stocker(\"./OUTPUT/FRA00301_Aimard_15L_EN_dico.json\", dic_ent)\n",
    "        "
   ]
  },
  {
   "cell_type": "code",
   "execution_count": null,
   "metadata": {},
   "outputs": [],
   "source": []
  }
 ],
 "metadata": {
  "kernelspec": {
   "display_name": "Python 3 (ipykernel)",
   "language": "python",
   "name": "python3"
  },
  "language_info": {
   "codemirror_mode": {
    "name": "ipython",
    "version": 3
   },
   "file_extension": ".py",
   "mimetype": "text/x-python",
   "name": "python",
   "nbconvert_exporter": "python",
   "pygments_lexer": "ipython3",
   "version": "3.9.7"
  }
 },
 "nbformat": 4,
 "nbformat_minor": 4
}
